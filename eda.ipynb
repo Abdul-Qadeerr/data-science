## Exploratory Data Analysis

# Summary
df.describe()
df.info()

# Visuals
sns.histplot(df['Age'])
sns.boxplot(x='Department', y='Salary', data=df)
sns.heatmap(df.corr(), annot=True, cmap='coolwarm')

# Insights
print("Observation: Sales department ka average salary higher hai...")
