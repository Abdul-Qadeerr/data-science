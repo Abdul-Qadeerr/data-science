{
 "cells": [
  {
   "cell_type": "markdown",
   "metadata": {},
   "source": [
    "# Exploratory Data Analysis (EDA)\n",
    "Self-contained notebook: will auto-create `data.csv` if not found."
   ]
  },
  {
   "cell_type": "code",
   "execution_count": null,
   "metadata": {},
   "outputs": [],
   "source": [
    "# =======================\n",
    "# 1. Import Libraries\n",
    "# =======================\n",
    "import pandas as pd\n",
    "import numpy as np\n",
    "import matplotlib.pyplot as plt\n",
    "import seaborn as sns\n",
    "import os\n",
    "\n",
    "sns.set(style=\"whitegrid\")"
   ]
  },
  {
   "cell_type": "code",
   "execution_count": null,
   "metadata": {},
   "outputs": [],
   "source": [
    "# =======================\n",
    "# 2. Load Dataset (with fallback)\n",
    "# =======================\n",
    "if not os.path.exists(\"data.csv\"):\n",
    "    data = {\n",
    "        \"Name\": [\"Abeer\", \"Qadeer\", \"Umer\", \"Sehrish\", \"Khani\", \"Qadeer\"],\n",
    "        \"Age\": [25, 30, 28, 26, 35, None],\n",
    "        \"Salary\": [50000, 60000, 55000, 65000, 70000, 60000],\n",
    "        \"Performance\": [80, 85, 75, 90, 95, 88]\n",
    "    }\n",
    "    df = pd.DataFrame(data)\n",
    "    df.to_csv(\"data.csv\", index=False)\n",
    "    print(\"Sample data.csv created!\")\n",
    "\n",
    "df = pd.read_csv(\"data.csv\")\n",
    "df.head()"
   ]
  },
  {
   "cell_type": "code",
   "execution_count": null,
   "metadata": {},
   "outputs": [],
   "source": [
    "# =======================\n",
    "# 3. First Look at Data\n",
    "# =======================\n",
    "print(\"Shape of dataset:\", df.shape)\n",
    "print(\"\\nColumns:\", df.columns.tolist())\n",
    "print(\"\\nBasic Info:\")\n",
    "print(df.info())\n",
    "print(\"\\nSummary Statistics:\")\n",
    "print(df.describe(include=\"all\"))"
   ]
  },
  {
   "cell_type": "code",
   "execution_count": null,
   "metadata": {},
   "outputs": [],
   "source": [
    "# =======================\n",
    "# 4. Missing Values Check\n",
    "# =======================\n",
    "print(\"\\nMissing Values:\\n\", df.isnull().sum())"
   ]
  },
  {
   "cell_type": "code",
   "execution_count": null,
   "metadata": {},
   "outputs": [],
   "source": [
    "# =======================\n",
    "# 5. Univariate Analysis\n",
    "# =======================\n",
    "df.hist(figsize=(10, 8), bins=20, edgecolor=\"black\")\n",
    "plt.suptitle(\"Histograms of Numerical Features\")\n",
    "plt.show()\n",
    "\n",
    "for col in df.select_dtypes(include=['object']).columns:\n",
    "    plt.figure(figsize=(6,4))\n",
    "    sns.countplot(data=df, x=col, palette=\"Set2\")\n",
    "    plt.title(f\"Countplot of {col}\")\n",
    "    plt.xticks(rotation=45)\n",
    "    plt.show()"
   ]
  },
  {
   "cell_type": "code",
   "execution_count": null,
   "metadata": {},
   "outputs": [],
   "source": [
    "# =======================\n",
    "# 6. Bivariate Analysis\n",
    "# =======================\n",
    "plt.figure(figsize=(8,6))\n",
    "sns.heatmap(df.select_dtypes(include=[np.number]).corr(), annot=True, cmap=\"coolwarm\", fmt=\".2f\")\n",
    "plt.title(\"Correlation Heatmap\")\n",
    "plt.show()\n",
    "\n",
    "if \"Age\" in df.columns and \"Salary\" in df.columns:\n",
    "    plt.figure(figsize=(6,4))\n",
    "    hue_col = \"Performance\" if \"Performance\" in df.columns else None\n",
    "    sns.scatterplot(data=df, x=\"Age\", y=\"Salary\", hue=hue_col, palette=\"Set1\")\n",
    "    plt.title(\"Age vs Salary\")\n",
    "    plt.show()\n",
    "\n",
    "for col in df.select_dtypes(include=[np.number]).columns:\n",
    "    plt.figure(figsize=(6,4))\n",
    "    sns.boxplot(data=df, y=col, palette=\"Set3\")\n",
    "    plt.title(f\"Boxplot of {col}\")\n",
    "    plt.show()"
   ]
  },
  {
   "cell_type": "code",
   "execution_count": null,
   "metadata": {},
   "outputs": [],
   "source": [
    "# =======================\n",
    "# 7. Pairplot\n",
    "# =======================\n",
    "num_cols = df.select_dtypes(include=[np.number]).columns\n",
    "if len(num_cols) > 1:\n",
    "    sns.pairplot(df[num_cols], diag_kind=\"kde\")\n",
    "    plt.suptitle(\"Pairplot of Numerical Variables\", y=1.02)\n",
    "    plt.show()\n",
    "else:\n",
    "    print(\"Not enough numerical columns for pairplot.\")"
   ]
  }
 ],
 "metadata": {
  "colab": {
   "provenance": []
  },
  "kernelspec": {
   "display_name": "Python 3",
   "language": "python",
   "name": "python3"
  },
  "language_info": {
   "name": "python"
  }
 },
 "nbformat": 4,
 "nbformat_minor": 5
}
