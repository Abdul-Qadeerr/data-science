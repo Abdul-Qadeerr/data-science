# %% [markdown]
# # NumPy Fundamentals - Complete Guide
# 
# This notebook covers essential NumPy operations and concepts.

# %%
import numpy as np
import matplotlib.pyplot as plt

# %% [markdown]
# ## 1. Creating Arrays

# %%
# Different ways to create arrays
print("=== Creating Arrays ===")

# From Python list
arr1 = np.array([1, 2, 3, 4, 5])
print("From list:", arr1)

# Array of zeros
zeros = np.zeros(5)
print("Zeros:", zeros)

# Array of ones
ones = np.ones((3, 3))
print("Ones:\n", ones)

# Identity matrix
identity = np.eye(4)
print("Identity:\n", identity)

# Array with range
range_arr = np.arange(0, 10, 2)
print("Arrange:", range_arr)

# Linear space
linspace = np.linspace(0, 1, 5)
print("Linspace:", linspace)

# Random array
random_arr = np.random.rand(2, 3)
print("Random:\n", random_arr)

# %% [markdown]
# ## 2. Array Properties and Information

# %%
print("=== Array Properties ===")

arr_2d = np.array([[1, 2, 3], [4, 5, 6]])
print("Array:\n", arr_2d)
print("Shape:", arr_2d.shape)
print("Dimensions:", arr_2d.ndim)
print("Size:", arr_2d.size)
print("Data type:", arr_2d.dtype)
print("Item size:", arr_2d.itemsize, "bytes")

# %% [markdown]
# ## 3. Array Indexing and Slicing

# %%
print("=== Indexing and Slicing ===")

arr = np.array([10, 20, 30, 40, 50, 60, 70, 80, 90])
print("Original:", arr)

# Basic indexing
print("First element:", arr[0])
print("Last element:", arr[-1])

# Slicing
print("First 3 elements:", arr[:3])
print("Elements 3 to 6:", arr[3:6])
print("Every other element:", arr[::2])

# 2D array indexing
matrix = np.array([[1, 2, 3], [4, 5, 6], [7, 8, 9]])
print("\n2D Array:\n", matrix)
print("Element at [1,2]:", matrix[1, 2])
print("First row:", matrix[0, :])
print("Second column:", matrix[:, 1])

# %% [markdown]
# ## 4. Array Operations

# %%
print("=== Array Operations ===")

a = np.array([1, 2, 3])
b = np.array([4, 5, 6])

# Arithmetic operations
print("a + b =", a + b)
print("a - b =", a - b)
print("a * b =", a * b)
print("a / b =", a / b)
print("a ** 2 =", a ** 2)

# Comparison operations
print("a > 2 =", a > 2)
print("a == b =", a == b)

# Aggregate operations
print("Sum of a:", np.sum(a))
print("Mean of a:", np.mean(a))
print("Max of a:", np.max(a))
print("Min of a:", np.min(a))
print("Standard deviation:", np.std(a))

# %% [markdown]
# ## 5. Array Manipulation

# %%
print("=== Array Manipulation ===")

# Reshaping
arr = np.arange(12)
print("Original:", arr)
reshaped = arr.reshape(3, 4)
print("Reshaped (3x4):\n", reshaped)

# Flattening
flattened = reshaped.flatten()
print("Flattened:", flattened)

# Concatenation
arr1 = np.array([1, 2, 3])
arr2 = np.array([4, 5, 6])
concatenated = np.concatenate([arr1, arr2])
print("Concatenated:", concatenated)

# Stacking
stacked = np.stack([arr1, arr2])
print("Stacked:\n", stacked)

# Splitting
split_arr = np.array([1, 2, 3, 4, 5, 6])
splits = np.split(split_arr, 3)
print("Split into 3 parts:", splits)

# %% [markdown]
# ## 6. Broadcasting

# %%
print("=== Broadcasting ===")

# Array with scalar
arr = np.array([1, 2, 3])
print("Array:", arr)
print("Array + 5:", arr + 5)
print("Array * 2:", arr * 2)

# Array with different shapes
matrix = np.array([[1, 2, 3], [4, 5, 6], [7, 8, 9]])
vector = np.array([1, 0, -1])
print("\nMatrix:\n", matrix)
print("Vector:", vector)
print("Matrix + Vector:\n", matrix + vector)

# %% [markdown]
# ## 7. Universal Functions (ufuncs)

# %%
print("=== Universal Functions ===")

arr = np.array([1, 4, 9, 16, 25])

# Mathematical functions
print("Square root:", np.sqrt(arr))
print("Exponential:", np.exp(arr))
print("Logarithm:", np.log(arr))
print("Sine:", np.sin(arr))

# Trigonometric functions
angles = np.array([0, np.pi/2, np.pi])
print("Cosine of angles:", np.cos(angles))

# %% [markdown]
# ## 8. Linear Algebra Operations

# %%
print("=== Linear Algebra ===")

# Matrix multiplication
A = np.array([[1, 2], [3, 4]])
B = np.array([[5, 6], [7, 8]])
print("Matrix A:\n", A)
print("Matrix B:\n", B)
print("A × B:\n", np.dot(A, B))

# Determinant and inverse
print("Determinant of A:", np.linalg.det(A))
print("Inverse of A:\n", np.linalg.inv(A))

# Eigenvalues and eigenvectors
eigenvalues, eigenvectors = np.linalg.eig(A)
print("Eigenvalues:", eigenvalues)
print("Eigenvectors:\n", eigenvectors)

# %% [markdown]
# ## 9. Random Number Generation

# %%
print("=== Random Numbers ===")

# Various distributions
print("10 random numbers [0,1):", np.random.rand(10))
print("Random integers (1-100):", np.random.randint(1, 100, 5))
print("Normal distribution:", np.random.normal(0, 1, 5))

# Setting seed for reproducibility
np.random.seed(42)
print("With seed:", np.random.rand(3))

# %% [markdown]
# ## 10. Practical Examples

# %%
print("=== Practical Examples ===")

# Example 1: Image as array (simulated)
image = np.random.randint(0, 256, (10, 10, 3), dtype=np.uint8)
print("Image shape:", image.shape)
print("Red channel mean:", np.mean(image[:, :, 0]))

# Example 2: Data normalization
data = np.random.normal(50, 15, 100)  # Mean=50, Std=15
normalized = (data - np.mean(data)) / np.std(data)
print("Original mean/std:", np.mean(data), np.std(data))
print("Normalized mean/std:", np.mean(normalized), np.std(normalized))

# Example 3: Masking and filtering
scores = np.array([85, 92, 78, 90, 65, 88, 72])
passing_mask = scores >= 75
print("Passing scores:", scores[passing_mask])

# %% [markdown]
# ## 11. Visualization with NumPy Arrays

# %%
# Simple plot using NumPy arrays
x = np.linspace(0, 2*np.pi, 100)
y_sin = np.sin(x)
y_cos = np.cos(x)

plt.figure(figsize=(10, 6))
plt.plot(x, y_sin, label='sin(x)')
plt.plot(x, y_cos, label='cos(x)')
plt.title('Trigonometric Functions')
plt.xlabel('x')
plt.ylabel('y')
plt.legend()
plt.grid(True)
plt.show()

# %% [markdown]
# ## 12. Performance Comparison

# %%
print("=== Performance Comparison ===")

# Compare NumPy vs Python lists for large arrays
large_size = 1000000

# Python list
python_list = list(range(large_size))

# NumPy array
numpy_array = np.arange(large_size)

# Time the operations
import time

# Sum operation
start = time.time()
python_sum = sum(python_list)
python_time = time.time() - start

start = time.time()
numpy_sum = np.sum(numpy_array)
numpy_time = time.time() - start

print(f"Python list sum: {python_time:.6f} seconds")
print(f"NumPy array sum: {numpy_time:.6f} seconds")
print(f"NumPy is {python_time/numpy_time:.1f}x faster")

# %% [markdown]
# ## 13. Advanced Indexing

# %%
print("=== Advanced Indexing ===")

arr = np.array([10, 20, 30, 40, 50, 60, 70, 80, 90])

# Boolean indexing
print("Elements > 50:", arr[arr > 50])

# Fancy indexing
indices = [0, 2, 4, 6]
print("Selected indices:", arr[indices])

# 2D fancy indexing
matrix = np.array([[1, 2, 3], [4, 5, 6], [7, 8, 9]])
rows = [0, 2]
cols = [1, 2]
print("Selected elements:", matrix[rows, cols])

# %% [markdown]
# ## 14. Saving and Loading Arrays

# %%
print("=== File I/O ===")

# Create sample data
data = np.random.rand(5, 3)

# Save to file
np.save('sample_data.npy', data)
np.savetxt('sample_data.txt', data)

# Load from file
loaded_npy = np.load('sample_data.npy')
loaded_txt = np.loadtxt('sample_data.txt')

print("Original:\n", data)
print("Loaded from .npy:\n", loaded_npy)
print("Loaded from .txt:\n", loaded_txt)

# Clean up
import os
os.remove('sample_data.npy')
os.remove('sample_data.txt')

# %% [markdown]
# ## Key Takeaways:
# 
# 1. **Efficiency**: NumPy arrays are much faster than Python lists for numerical operations
# 2. **Versatility**: Supports various data types and mathematical operations
# 3. **Broadcasting**: Allows operations between arrays of different shapes
# 4. **Vectorization**: Enables element-wise operations without explicit loops
# 5. **Integration**: Works seamlessly with other scientific Python libraries
