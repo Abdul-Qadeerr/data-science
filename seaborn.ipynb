{
  "cells": [
    {
      "cell_type": "markdown",
      "id": "intro",
      "metadata": {},
      "source": [
        "# 🌊 Seaborn Visualization with Custom Real-life Data\n",
        "Dataset includes Abeer, Qadeer, Umer, Sehrish, and Khani."
      ]
    },
    {
      "cell_type": "code",
      "execution_count": 1,
      "id": "data-import",
      "metadata": {},
      "outputs": [],
      "source": [
        "import seaborn as sns\n",
        "import matplotlib.pyplot as plt\n",
        "import pandas as pd\n",
        "import numpy as np\n",
        "\n",
        "# Custom Dataset\n",
        "data = {\n",
        "    'Name': ['Abeer','Qadeer','Umer','Sehrish','Khani',\n",
        "             'Abeer','Qadeer','Umer','Sehrish','Khani'],\n",
        "    'Department': ['IT','IT','Finance','Finance','HR',\n",
        "                   'HR','Marketing','Marketing','IT','Finance'],\n",
        "    'Age': [24, 28, 26, 25, 30, 27, 29, 24, 26, 31],\n",
        "    'Salary': [60000, 75000, 70000, 68000, 72000, 71000, 80000, 65000, 69000, 77000],\n",
        "    'Performance': [85, 90, 88, 92, 80, 84, 91, 79, 87, 93]\n",
        "}\n",
        "\n",
        "df = pd.DataFrame(data)\n",
        "df"
      ]
    },
    {
      "cell_type": "markdown",
      "id": "bar",
      "metadata": {},
      "source": [
        "## 1. Bar Plot - Average Salary by Name"
      ]
    },
    {
      "cell_type": "code",
      "execution_count": 2,
      "id": "bar-plot",
      "metadata": {},
      "outputs": [],
      "source": [
        "sns.barplot(x='Name', y='Salary', data=df, ci=None, palette='Set2')\n",
        "plt.title(\"Average Salary by Name\")\n",
        "plt.show()"
      ]
    },
    {
      "cell_type": "markdown",
      "id": "scatter",
      "metadata": {},
      "source": [
        "## 2. Scatter Plot - Age vs Salary"
      ]
    },
    {
      "cell_type": "code",
      "execution_count": 3,
      "id": "scatter-plot",
      "metadata": {},
      "outputs": [],
      "source": [
        "sns.scatterplot(x='Age', y='Salary', hue='Name', style='Department', s=100, data=df)\n",
        "plt.title(\"Age vs Salary (by Name & Department)\")\n",
        "plt.show()"
      ]
    },
    {
      "cell_type": "markdown",
      "id": "box",
      "metadata": {},
      "source": [
        "## 3. Box Plot - Performance by Department"
      ]
    },
    {
      "cell_type": "code",
      "execution_count": 4,
      "id": "box-plot",
      "metadata": {},
      "outputs": [],
      "source": [
        "sns.boxplot(x='Department', y='Performance', data=df, palette='Pastel1')\n",
        "plt.title(\"Performance Distribution by Department\")\n",
        "plt.show()"
      ]
    },
    {
      "cell_type": "markdown",
      "id": "heatmap",
      "metadata": {},
      "source": [
        "## 4. Heatmap - Correlation"
      ]
    },
    {
      "cell_type": "code",
      "execution_count": 5,
      "id": "heatmap",
      "metadata": {},
      "outputs": [],
      "source": [
        "corr = df[['Age','Salary','Performance']].corr()\n",
        "sns.heatmap(corr, annot=True, cmap='coolwarm')\n",
        "plt.title(\"Correlation Heatmap\")\n",
        "plt.show()"
      ]
    },
    {
      "cell_type": "markdown",
      "id": "pairplot",
      "metadata": {},
      "source": [
        "## 5. Pairplot - Relations between Age, Salary & Performance"
      ]
    },
    {
      "cell_type": "code",
      "execution_count": 6,
      "id": "pairplot",
      "metadata": {},
      "outputs": [],
      "source": [
        "sns.pairplot(df[['Age','Salary','Performance','Name']], hue='Name')\n",
        "plt.show()"
      ]
    }
  ],
  "metadata": {
    "language_info": {
      "name": "python"
    },
    "kernelspec": {
      "name": "python3",
      "display_name": "Python 3"
    }
  },
  "nbformat": 4,
  "nbformat_minor": 5
}
