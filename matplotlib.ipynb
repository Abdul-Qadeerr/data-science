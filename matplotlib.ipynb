{
  "cells": [
    { 
      "cell_type": "markdown",
      "id": "intro",
      "metadata": {},
      "source": [
        "# 🎨 Matplotlib Implementation Examples\n",
        "This notebook covers basic to intermediate concepts of Matplotlib for data visualization."
      ]
    },
    {
      "cell_type": "code",
      "execution_count": 1,
      "id": "import",
      "metadata": {},
      "outputs": [],
      "source": [
        "import matplotlib.pyplot as plt\n",
        "import numpy as np\n",
        "%matplotlib inline"
      ]
    },
    {
      "cell_type": "markdown",
      "id": "basic-plot",
      "metadata": {},
      "source": [
        "## 1. Basic Line Plot"
      ]
    },
    {
      "cell_type": "code",
      "execution_count": 2,
      "id": "line-plot",
      "metadata": {},
      "outputs": [],
      "source": [
        "x = np.linspace(0, 10, 100)\n",
        "y = np.sin(x)\n",
        "\n",
        "plt.plot(x, y)\n",
        "plt.title(\"Basic Line Plot\")\n",
        "plt.xlabel(\"X-axis\")\n",
        "plt.ylabel(\"Y-axis\")\n",
        "plt.show()"
      ]
    },
    {
      "cell_type": "markdown",
      "id": "multi-lines",
      "metadata": {},
      "source": [
        "## 2. Multiple Lines"
      ]
    },
    {
      "cell_type": "code",
      "execution_count": 3,
      "id": "multi-line-plot",
      "metadata": {},
      "outputs": [],
      "source": [
        "x = np.linspace(0, 10, 100)\n",
        "plt.plot(x, np.sin(x), label='Sine')\n",
        "plt.plot(x, np.cos(x), label='Cosine')\n",
        "plt.title(\"Multiple Lines\")\n",
        "plt.xlabel(\"X-axis\")\n",
        "plt.ylabel(\"Y-axis\")\n",
        "plt.legend()\n",
        "plt.show()"
      ]
    },
    {
      "cell_type": "markdown",
      "id": "scatter",
      "metadata": {},
      "source": [
        "## 3. Scatter Plot"
      ]
    },
    {
      "cell_type": "code",
      "execution_count": 4,
      "id": "scatter-plot",
      "metadata": {},
      "outputs": [],
      "source": [
        "x = np.random.rand(50)\n",
        "y = np.random.rand(50)\n",
        "plt.scatter(x, y, color='red', marker='o')\n",
        "plt.title(\"Scatter Plot\")\n",
        "plt.show()"
      ]
    },
    {
      "cell_type": "markdown",
      "id": "bar",
      "metadata": {},
      "source": [
        "## 4. Bar Chart"
      ]
    },
    {
      "cell_type": "code",
      "execution_count": 5,
      "id": "bar-chart",
      "metadata": {},
      "outputs": [],
      "source": [
        "categories = ['A', 'B', 'C', 'D']\n",
        "values = [3, 7, 2, 5]\n",
        "plt.bar(categories, values, color=['blue','orange','green','red'])\n",
        "plt.title(\"Bar Chart\")\n",
        "plt.show()"
      ]
    },
    {
      "cell_type": "markdown",
      "id": "hist",
      "metadata": {},
      "source": [
        "## 5. Histogram"
      ]
    },
    {
      "cell_type": "code",
      "execution_count": 6,
      "id": "histogram",
      "metadata": {},
      "outputs": [],
      "source": [
        "data = np.random.randn(1000)\n",
        "plt.hist(data, bins=30, color='purple', alpha=0.7)\n",
        "plt.title(\"Histogram\")\n",
        "plt.show()"
      ]
    },
    {
      "cell_type": "markdown",
      "id": "pie",
      "metadata": {},
      "source": [
        "## 6. Pie Chart"
      ]
    },
    {
      "cell_type": "code",
      "execution_count": 7,
      "id": "pie-chart",
      "metadata": {},
      "outputs": [],
      "source": [
        "sizes = [25, 35, 20, 20]\n",
        "labels = ['A', 'B', 'C', 'D']\n",
        "plt.pie(sizes, labels=labels, autopct='%1.1f%%', startangle=90)\n",
        "plt.title(\"Pie Chart\")\n",
        "plt.show()"
      ]
    },
    {
      "cell_type": "markdown",
      "id": "subplots",
      "metadata": {},
      "source": [
        "## 7. Subplots"
      ]
    },
    {
      "cell_type": "code",
      "execution_count": 8,
      "id": "subplot-code",
      "metadata": {},
      "outputs": [],
      "source": [
        "x = np.linspace(0, 10, 100)\n",
        "\n",
        "plt.figure(figsize=(10,4))\n",
        "\n",
        "# First plot\n",
        "plt.subplot(1,2,1)\n",
        "plt.plot(x, np.sin(x))\n",
        "plt.title(\"Sine\")\n",
        "\n",
        "# Second plot\n",
        "plt.subplot(1,2,2)\n",
        "plt.plot(x, np.cos(x), 'r')\n",
        "plt.title(\"Cosine\")\n",
        "\n",
        "plt.tight_layout()\n",
        "plt.show()"
      ]
    },
    {
      "cell_type": "markdown",
      "id": "style",
      "metadata": {},
      "source": [
        "## 8. Styling"
      ]
    },
    {
      "cell_type": "code",
      "execution_count": 9,
      "id": "styling",
      "metadata": {},
      "outputs": [],
      "source": [
        "x = np.linspace(0, 10, 100)\n",
        "plt.plot(x, np.sin(x), linestyle='--', color='g', linewidth=2, marker='o')\n",
        "plt.title(\"Styled Line Plot\")\n",
        "plt.show()"
      ]
    }
  ],
  "metadata": {
    "language_info": {
      "name": "python"
    },
    "kernelspec": {
      "name": "python3",
      "display_name": "Python 3"
    }
  },
  "nbformat": 4,
  "nbformat_minor": 5
}
