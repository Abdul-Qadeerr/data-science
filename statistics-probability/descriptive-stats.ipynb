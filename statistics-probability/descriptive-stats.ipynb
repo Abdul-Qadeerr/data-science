# Descriptive Statistics

import numpy as np
import pandas as pd

# Sample data
data = {'Age': [23, 21, 25, 30, 29, 22, 24, 28]}
df = pd.DataFrame(data)

# Mean
mean_val = df['Age'].mean()
print("Mean:", mean_val)

# Median
median_val = df['Age'].median()
print("Median:", median_val)

# Standard Deviation
std_val = df['Age'].std()
print("Standard Deviation:", std_val)

# Variance
var_val = df['Age'].var()
print("Variance:", var_val)
