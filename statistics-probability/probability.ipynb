{
 "cells": [
  {
   "cell_type": "markdown",
   "metadata": {},
   "source": [
    "# Probability Basics & Distributions\n",
    "Normal, Binomial, Poisson Distributions"
   ]
  },
  {
   "cell_type": "code",
   "execution_count": null,
   "metadata": {},
   "outputs": [],
   "source": [
    "import numpy as np\n",
    "import matplotlib.pyplot as plt\n",
    "import seaborn as sns\n",
    "from scipy.stats import norm, binom, poisson"
   ]
  },
  {
   "cell_type": "code",
   "execution_count": null,
   "metadata": {},
   "outputs": [],
   "source": [
    "# Normal Distribution\n",
    "x = np.linspace(-4, 4, 1000)\n",
    "y = norm.pdf(x, loc=0, scale=1)\n",
    "plt.plot(x, y)\n",
    "plt.title('Normal Distribution (mean=0, std=1)')\n",
    "plt.show()"
   ]
  },
  {
   "cell_type": "code",
   "execution_count": null,
   "metadata": {},
   "outputs": [],
   "source": [
    "# Binomial Distribution\n",
    "n, p = 10, 0.5\n",
    "x = np.arange(0, n+1)\n",
    "y = binom.pmf(x, n, p)\n",
    "plt.bar(x, y)\n",
    "plt.title('Binomial Distribution (n=10, p=0.5)')\n",
    "plt.show()"
   ]
  },
  {
   "cell_type": "code",
   "execution_count": null,
   "metadata": {},
   "outputs": [],
   "source": [
    "# Poisson Distribution\n",
    "lam = 3\n",
    "x = np.arange(0, 15)\n",
    "y = poisson.pmf(x, lam)\n",
    "plt.bar(x, y)\n",
    "plt.title('Poisson Distribution (λ=3)')\n",
    "plt.show()"
   ]
  }
 ],
 "metadata": {
  "kernelspec": {
   "display_name": "Python 3",
   "language": "python",
   "name": "python3"
  }
 },
 "nbformat": 4,
 "nbformat_minor": 5
}
