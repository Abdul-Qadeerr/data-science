{
 "cells": [
  {
   "cell_type": "markdown",
   "metadata": {},
   "source": [
    "# Hypothesis Testing\n",
    "t-test, Chi-square, ANOVA"
   ]
  },
  {
   "cell_type": "code",
   "execution_count": null,
   "metadata": {},
   "outputs": [],
   "source": [
    "import numpy as np\n",
    "import pandas as pd\n",
    "from scipy import stats"
   ]
  },
  {
   "cell_type": "code",
   "execution_count": null,
   "metadata": {},
   "outputs": [],
   "source": [
    "# t-test Example\n",
    "group1 = np.random.normal(50, 10, 30)\n",
    "group2 = np.random.normal(55, 10, 30)\n",
    "t_stat, p_val = stats.ttest_ind(group1, group2)\n",
    "t_stat, p_val"
   ]
  },
  {
   "cell_type": "code",
   "execution_count": null,
   "metadata": {},
   "outputs": [],
   "source": [
    "# Chi-Square Test\n",
    "observed = np.array([[10, 20], [20, 30]])\n",
    "chi2, p, dof, expected = stats.chi2_contingency(observed)\n",
    "chi2, p"
   ]
  },
  {
   "cell_type": "code",
   "execution_count": null,
   "metadata": {},
   "outputs": [],
   "source": [
    "# ANOVA Example\n",
    "group1 = np.random.normal(50, 5, 20)\n",
    "group2 = np.random.normal(52, 5, 20)\n",
    "group3 = np.random.normal(54, 5, 20)\n",
    "f_stat, p_val = stats.f_oneway(group1, group2, group3)\n",
    "f_stat, p_val"
   ]
  }
 ],
 "metadata": {
  "kernelspec": {
   "display_name": "Python 3",
   "language": "python",
   "name": "python3"
  }
 },
 "nbformat": 4,
 "nbformat_minor": 5
}
