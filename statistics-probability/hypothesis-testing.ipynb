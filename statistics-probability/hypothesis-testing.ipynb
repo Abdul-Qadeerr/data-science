{
  "cells": [
    {
      "cell_type": "markdown",
      "metadata": {
        "id": "view-in-github",
        "colab_type": "text"
      },
      "source": [
        "<a href=\"https://colab.research.google.com/github/Abdul-Qadeerr/data-science/blob/main/statistics-probability/hypothesis-testing.ipynb\" target=\"_parent\"><img src=\"https://colab.research.google.com/assets/colab-badge.svg\" alt=\"Open In Colab\"/></a>"
      ]
    },
    {
      "cell_type": "markdown",
      "metadata": {
        "id": "irKidhYCoVqL"
      },
      "source": [
        "# Hypothesis Testing\n",
        "t-test, Chi-square, ANOVA"
      ],
      "id": "irKidhYCoVqL"
    },
    {
      "cell_type": "code",
      "execution_count": 9,
      "metadata": {
        "id": "5OSTVeQ2oVqM"
      },
      "outputs": [],
      "source": [
        "import numpy as np\n",
        "import pandas as pd\n",
        "from scipy import stats"
      ],
      "id": "5OSTVeQ2oVqM"
    },
    {
      "cell_type": "code",
      "execution_count": 10,
      "metadata": {
        "id": "O9aPmomGoVqN",
        "outputId": "496ed57f-4593-4f4b-8c45-5bc595df7945",
        "colab": {
          "base_uri": "https://localhost:8080/"
        }
      },
      "outputs": [
        {
          "output_type": "stream",
          "name": "stdout",
          "text": [
            "t-statistic: -1.9006967814492468\n",
            "p-value: 0.06231503449720156\n"
          ]
        }
      ],
      "source": [
        "import numpy as np\n",
        "from scipy import stats\n",
        "\n",
        "# Generate random samples\n",
        "group1 = np.random.normal(50, 10, 30)\n",
        "group2 = np.random.normal(55, 10, 30)\n",
        "\n",
        "# Run independent t-test\n",
        "t_stat, p_val = stats.ttest_ind(group1, group2)\n",
        "\n",
        "print(\"t-statistic:\", t_stat)\n",
        "print(\"p-value:\", p_val)\n"
      ],
      "id": "O9aPmomGoVqN"
    },
    {
      "cell_type": "code",
      "execution_count": 11,
      "metadata": {
        "id": "CRlgpb8boVqN",
        "outputId": "b4353ab9-559d-4c76-e70a-0705fde93618",
        "colab": {
          "base_uri": "https://localhost:8080/"
        }
      },
      "outputs": [
        {
          "output_type": "stream",
          "name": "stdout",
          "text": [
            "Chi-square statistic: 0.128\n",
            "p-value: 0.7205147871362552\n",
            "Degrees of freedom: 1\n",
            "Expected frequencies:\n",
            " [[11.25 18.75]\n",
            " [18.75 31.25]]\n"
          ]
        }
      ],
      "source": [
        "# Chi-Square Test\n",
        "import numpy as np\n",
        "from scipy import stats\n",
        "\n",
        "# Observed frequency table\n",
        "observed = np.array([[10, 20],\n",
        "                     [20, 30]])\n",
        "\n",
        "# Chi-Square Test\n",
        "chi2, p, dof, expected = stats.chi2_contingency(observed)\n",
        "\n",
        "print(\"Chi-square statistic:\", chi2)\n",
        "print(\"p-value:\", p)\n",
        "print(\"Degrees of freedom:\", dof)\n",
        "print(\"Expected frequencies:\\n\", expected)\n"
      ],
      "id": "CRlgpb8boVqN"
    },
    {
      "cell_type": "code",
      "execution_count": 12,
      "metadata": {
        "id": "jRDUPZvIoVqN",
        "outputId": "b58f4eec-260b-459a-fb24-62a5ec6aea96",
        "colab": {
          "base_uri": "https://localhost:8080/"
        }
      },
      "outputs": [
        {
          "output_type": "stream",
          "name": "stdout",
          "text": [
            "F-statistic: 5.505103850196858\n",
            "p-value: 0.006517356887885119\n"
          ]
        }
      ],
      "source": [
        "import numpy as np\n",
        "from scipy import stats\n",
        "\n",
        "# Generate sample data\n",
        "np.random.seed(42)  # reproducibility ke liye\n",
        "group1 = np.random.normal(50, 5, 20)\n",
        "group2 = np.random.normal(52, 5, 20)\n",
        "group3 = np.random.normal(54, 5, 20)\n",
        "\n",
        "# One-way ANOVA\n",
        "f_stat, p_val = stats.f_oneway(group1, group2, group3)\n",
        "\n",
        "print(\"F-statistic:\", f_stat)\n",
        "print(\"p-value:\", p_val)\n"
      ],
      "id": "jRDUPZvIoVqN"
    }
  ],
  "metadata": {
    "kernelspec": {
      "display_name": "Python 3",
      "language": "python",
      "name": "python3"
    },
    "colab": {
      "provenance": [],
      "include_colab_link": true
    }
  },
  "nbformat": 4,
  "nbformat_minor": 5
}