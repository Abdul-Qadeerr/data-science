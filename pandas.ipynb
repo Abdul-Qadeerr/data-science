{
  "cells": [
    {
      "cell_type": "markdown",
      "id": "intro",
      "metadata": {
        "id": "intro"
      },
      "source": [
        "# 📘 Pandas Implementation Examples\n",
        "This notebook covers basic to intermediate concepts of Pandas."
      ]
    },
    {
      "cell_type": "code",
      "execution_count": 10,
      "id": "import",
      "metadata": {
        "id": "import"
      },
      "outputs": [],
      "source": [
        "import pandas as pd\n",
        "import numpy as np"
      ]
    },
    {
      "cell_type": "markdown",
      "id": "series",
      "metadata": {
        "id": "series"
      },
      "source": [
        "## 1. Creating Series"
      ]
    },
    {
      "cell_type": "code",
      "execution_count": 11,
      "id": "series-example",
      "metadata": {
        "colab": {
          "base_uri": "https://localhost:8080/"
        },
        "id": "series-example",
        "outputId": "8de5af27-0191-44d9-b999-0da0c68bdf21"
      },
      "outputs": [
        {
          "output_type": "stream",
          "name": "stdout",
          "text": [
            "Series:\n",
            "0    10\n",
            "1    20\n",
            "2    30\n",
            "3    40\n",
            "dtype: int64\n",
            "\n",
            "Custom Index:\n",
            "A    100\n",
            "B    200\n",
            "C    300\n",
            "dtype: int64\n"
          ]
        }
      ],
      "source": [
        "s1 = pd.Series([10, 20, 30, 40])\n",
        "s2 = pd.Series([100, 200, 300], index=[\"A\", \"B\", \"C\"])\n",
        "\n",
        "print(\"Series:\")\n",
        "print(s1)\n",
        "print(\"\\nCustom Index:\")\n",
        "print(s2)\n"
      ]
    },
    {
      "cell_type": "markdown",
      "id": "dataframe",
      "metadata": {
        "id": "dataframe"
      },
      "source": [
        "## 2. Creating DataFrame"
      ]
    },
    {
      "cell_type": "code",
      "execution_count": 12,
      "id": "df-example",
      "metadata": {
        "colab": {
          "base_uri": "https://localhost:8080/"
        },
        "id": "df-example",
        "outputId": "bf28bfa6-587c-4fa3-dcf1-a41a41f76e06"
      },
      "outputs": [
        {
          "output_type": "stream",
          "name": "stdout",
          "text": [
            "      Name  Age  Score\n",
            "0    Abeer   22     85\n",
            "1  Sehrish   24     90\n",
            "2     Umer   21     75\n"
          ]
        }
      ],
      "source": [
        "data = {\"Name\": [\"Abeer\", \"Sehrish\", \"Umer\"],\n",
        "        \"Age\": [22, 24, 21],\n",
        "        \"Score\": [85, 90, 75]}\n",
        "df = pd.DataFrame(data)\n",
        "print(df)\n"
      ]
    },
    {
      "cell_type": "markdown",
      "id": "selection",
      "metadata": {
        "id": "selection"
      },
      "source": [
        "## 3. Selection & Indexing"
      ]
    },
    {
      "cell_type": "code",
      "execution_count": 13,
      "id": "df-selection",
      "metadata": {
        "colab": {
          "base_uri": "https://localhost:8080/"
        },
        "id": "df-selection",
        "outputId": "90c8d188-c0ca-40d7-f500-862c3b7a2ad6"
      },
      "outputs": [
        {
          "output_type": "stream",
          "name": "stdout",
          "text": [
            "Name column:\n",
            "0      Abeer\n",
            "1    Sehrish\n",
            "2       Umer\n",
            "Name: Name, dtype: object\n",
            "\n",
            "Row 1:\n",
            "Name     Sehrish\n",
            "Age           24\n",
            "Score         90\n",
            "Name: 1, dtype: object\n"
          ]
        }
      ],
      "source": [
        "print(\"Name column:\")\n",
        "print(df[\"Name\"])\n",
        "print(\"\\nRow 1:\")\n",
        "print(df.loc[1])\n"
      ]
    },
    {
      "cell_type": "markdown",
      "id": "operations",
      "metadata": {
        "id": "operations"
      },
      "source": [
        "## 4. Basic Operations"
      ]
    },
    {
      "cell_type": "code",
      "execution_count": 14,
      "id": "df-operations",
      "metadata": {
        "colab": {
          "base_uri": "https://localhost:8080/"
        },
        "id": "df-operations",
        "outputId": "7afdc517-49f3-4708-8838-b6c36c0d7123"
      },
      "outputs": [
        {
          "output_type": "stream",
          "name": "stdout",
          "text": [
            "Mean Age: 22.333333333333332\n",
            "Max Score: 90\n"
          ]
        }
      ],
      "source": [
        "print(\"Mean Age:\", df[\"Age\"].mean())\n",
        "print(\"Max Score:\", df[\"Score\"].max())\n"
      ]
    },
    {
      "cell_type": "markdown",
      "id": "filtering",
      "metadata": {
        "id": "filtering"
      },
      "source": [
        "## 5. Filtering Data"
      ]
    },
    {
      "cell_type": "code",
      "execution_count": 15,
      "id": "df-filtering",
      "metadata": {
        "colab": {
          "base_uri": "https://localhost:8080/"
        },
        "id": "df-filtering",
        "outputId": "2425d876-f09f-451e-e9b3-c1b36ef4d9cc"
      },
      "outputs": [
        {
          "output_type": "stream",
          "name": "stdout",
          "text": [
            "      Name  Age  Score\n",
            "0    Abeer   22     85\n",
            "1  Sehrish   24     90\n"
          ]
        }
      ],
      "source": [
        "filtered = df[df[\"Score\"] > 80]\n",
        "print(filtered)\n"
      ]
    },
    {
      "cell_type": "markdown",
      "id": "groupby",
      "metadata": {
        "id": "groupby"
      },
      "source": [
        "## 6. GroupBy & Aggregation"
      ]
    },
    {
      "cell_type": "code",
      "execution_count": 16,
      "id": "df-groupby",
      "metadata": {
        "colab": {
          "base_uri": "https://localhost:8080/"
        },
        "id": "df-groupby",
        "outputId": "baa2e727-a736-40ab-9ff3-f9c9d837310f"
      },
      "outputs": [
        {
          "output_type": "stream",
          "name": "stdout",
          "text": [
            "    Dept   Age\n",
            "0     AI  24.0\n",
            "1  Cyber  24.0\n",
            "2     IT  21.5\n"
          ]
        }
      ],
      "source": [
        "data2 = {\"Name\": [\"Abeer\", \"Sehrish\", \"Umer\", \"Khani\"],\n",
        "         \"Dept\": [\"IT\", \"Cyber\", \"IT\", \"AI\"],\n",
        "         \"Age\": [22, 24, 21, 24]}\n",
        "df2 = pd.DataFrame(data2)\n",
        "print(df2.groupby(\"Dept\")[\"Age\"].mean().reset_index())\n"
      ]
    },
    {
      "cell_type": "markdown",
      "id": "merge",
      "metadata": {
        "id": "merge"
      },
      "source": [
        "## 7. Merging & Joining"
      ]
    },
    {
      "cell_type": "code",
      "execution_count": 17,
      "id": "df-merge",
      "metadata": {
        "colab": {
          "base_uri": "https://localhost:8080/"
        },
        "id": "df-merge",
        "outputId": "fcf5fdcb-3a38-4dd5-dc0e-5e25fe93b2e4"
      },
      "outputs": [
        {
          "output_type": "stream",
          "name": "stdout",
          "text": [
            "   ID   Name_x Dept   Name_y\n",
            "0   1    Abeer   IT    Abeer\n",
            "1   2  Sehrish   HR  Sehrish\n"
          ]
        }
      ],
      "source": [
        "df1 = pd.DataFrame({\"ID\": [1, 2], \"Name\": [\"Abeer\", \"Sehrish\"], \"Dept\": [\"IT\", \"HR\"]})\n",
        "df2 = pd.DataFrame({\"ID\": [1, 2], \"Name\": [\"Abeer\", \"Sehrish\"]})\n",
        "merged = pd.merge(df1, df2, on=\"ID\")\n",
        "print(merged)\n"
      ]
    },
    {
      "cell_type": "markdown",
      "id": "reading",
      "metadata": {
        "id": "reading"
      },
      "source": [
        "## 8. Reading/Writing CSV"
      ]
    },
    {
      "cell_type": "code",
      "execution_count": 18,
      "id": "df-csv",
      "metadata": {
        "colab": {
          "base_uri": "https://localhost:8080/"
        },
        "id": "df-csv",
        "outputId": "ba74749b-d001-4c8f-afa9-75c77011ec78"
      },
      "outputs": [
        {
          "output_type": "stream",
          "name": "stdout",
          "text": [
            "      Name  Age  Score\n",
            "0    Abeer   22     85\n",
            "1  Sehrish   24     90\n",
            "2     Umer   21     75\n"
          ]
        }
      ],
      "source": [
        "# Saving to CSV\n",
        "df.to_csv(\"students.csv\", index=False)\n",
        "\n",
        "# Reading from CSV\n",
        "df_loaded = pd.read_csv(\"students.csv\")\n",
        "print(df_loaded)\n"
      ]
    }
  ],
  "metadata": {
    "colab": {
      "provenance": []
    },
    "language_info": {
      "name": "python"
    },
    "kernelspec": {
      "name": "python3",
      "display_name": "Python 3"
    }
  },
  "nbformat": 4,
  "nbformat_minor": 5
}