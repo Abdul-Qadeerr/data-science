{
 "cells": [
  {
   "cell_type": "markdown",
   "metadata": {},
   "source": [
    "# Data Cleaning Notebook\n",
    "\n",
    "This notebook demonstrates handling **missing values, duplicates, and outliers** using Pandas."
   ]
  },
  {
   "cell_type": "code",
   "execution_count": null,
   "metadata": {},
   "outputs": [],
   "source": [
    "import pandas as pd\n",
    "\n",
    "# Step 1: Create sample data with missing values, duplicates, and outliers\n",
    "df = pd.DataFrame({\n",
    "    \"Name\": [\"Abeer\", \"Qadeer\", \"Umer\", \"Sehrish\", \"Khani\", \"Qadeer\"],\n",
    "    \"Age\": [25, None, 28, 26, 35, 30],\n",
    "    \"Salary\": [50000, 60000, 55000, 65000, 700000, 60000]  # 700000 is an outlier\n",
    "})\n",
    "\n",
    "print(\"Original Data:\")\n",
    "print(df)"
   ]
  },
  {
   "cell_type": "code",
   "execution_count": null,
   "metadata": {},
   "outputs": [],
   "source": [
    "# Step 2: Handle Missing Values\n",
    "print(\"\\nMissing values before cleaning:\")\n",
    "print(df.isnull().sum())\n",
    "\n",
    "df[\"Age\"].fillna(df[\"Age\"].mean(), inplace=True)\n",
    "\n",
    "print(\"\\nAfter filling missing values:\")\n",
    "print(df)"
   ]
  },
  {
   "cell_type": "code",
   "execution_count": null,
   "metadata": {},
   "outputs": [],
   "source": [
    "# Step 3: Handle Duplicates\n",
    "print(\"\\nDuplicate rows count before cleaning:\", df.duplicated().sum())\n",
    "\n",
    "df.drop_duplicates(inplace=True)\n",
    "\n",
    "print(\"\\nAfter removing duplicates:\")\n",
    "print(df)"
   ]
  },
  {
   "cell_type": "code",
   "execution_count": null,
   "metadata": {},
   "outputs": [],
   "source": [
    "# Step 4: Handle Outliers (IQR method)\n",
    "Q1 = df[\"Salary\"].quantile(0.25)\n",
    "Q3 = df[\"Salary\"].quantile(0.75)\n",
    "IQR = Q3 - Q1\n",
    "\n",
    "df = df[(df[\"Salary\"] >= Q1 - 1.5*IQR) & (df[\"Salary\"] <= Q3 + 1.5*IQR)]\n",
    "\n",
    "print(\"\\nAfter removing outliers:\")\n",
    "print(df)"
   ]
  }
 ],
 "metadata": {
  "kernelspec": {
   "display_name": "Python 3",
   "language": "python",
   "name": "python3"
  },
  "language_info": {
   "name": "python"
  }
 },
 "nbformat": 4,
 "nbformat_minor": 5
}
