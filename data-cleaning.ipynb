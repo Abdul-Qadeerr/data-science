# Missing values
df.isnull().sum()
df['Age'].fillna(df['Age'].mean(), inplace=True)

# Duplicates
df.duplicated().sum()
df.drop_duplicates(inplace=True)

# Outliers (IQR method)
Q1 = df['Salary'].quantile(0.25)
Q3 = df['Salary'].quantile(0.75)
IQR = Q3 - Q1
df = df[(df['Salary'] >= Q1 - 1.5*IQR) & (df['Salary'] <= Q3 + 1.5*IQR)]
