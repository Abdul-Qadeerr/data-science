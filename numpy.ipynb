{
 "cells": [
  {
   "cell_type": "markdown",
   "id": "926d4c8f",
   "metadata": {},
   "source": [
    "# 📘 NumPy Implementation Examples\n",
    "This notebook covers basic to intermediate concepts of NumPy."
   ]
  },
  {
   "cell_type": "code",
   "execution_count": null,
   "id": "a6a5d2b6",
   "metadata": {},
   "outputs": [],
   "source": [
    "import numpy as np\n"
   ]
  },
  {
   "cell_type": "markdown",
   "id": "f56fdac6",
   "metadata": {},
   "source": [
    "## 1. Array Creation"
   ]
  },
  {
   "cell_type": "code",
   "execution_count": null,
   "id": "a42c58c9",
   "metadata": {},
   "outputs": [],
   "source": [
    "\n",
    "# Creating arrays\n",
    "a = np.array([1, 2, 3, 4, 5])\n",
    "b = np.zeros((2,3))\n",
    "c = np.ones((3,3))\n",
    "d = np.arange(0, 10, 2)\n",
    "e = np.linspace(0, 1, 5)\n",
    "\n",
    "print(\"Array a:\", a)\n",
    "print(\"Zeros array:\n",
    "\", b)\n",
    "print(\"Ones array:\n",
    "\", c)\n",
    "print(\"Arange:\", d)\n",
    "print(\"Linspace:\", e)\n"
   ]
  },
  {
   "cell_type": "markdown",
   "id": "2c77a14b",
   "metadata": {},
   "source": [
    "## 2. Array Operations"
   ]
  },
  {
   "cell_type": "code",
   "execution_count": null,
   "id": "527a4ccc",
   "metadata": {},
   "outputs": [],
   "source": [
    "\n",
    "x = np.array([10, 20, 30, 40])\n",
    "y = np.array([1, 2, 3, 4])\n",
    "\n",
    "print(\"Addition:\", x + y)\n",
    "print(\"Subtraction:\", x - y)\n",
    "print(\"Multiplication:\", x * y)\n",
    "print(\"Division:\", x / y)\n",
    "print(\"Power:\", x ** 2)\n"
   ]
  },
  {
   "cell_type": "markdown",
   "id": "8f07b2dd",
   "metadata": {},
   "source": [
    "## 3. Indexing & Slicing"
   ]
  },
  {
   "cell_type": "code",
   "execution_count": null,
   "id": "b38493bb",
   "metadata": {},
   "outputs": [],
   "source": [
    "\n",
    "arr = np.array([10, 20, 30, 40, 50])\n",
    "print(\"First element:\", arr[0])\n",
    "print(\"Last element:\", arr[-1])\n",
    "print(\"Slice [1:4]:\", arr[1:4])\n",
    "print(\"Every 2nd element:\", arr[::2])\n"
   ]
  },
  {
   "cell_type": "markdown",
   "id": "7a9f0e0c",
   "metadata": {},
   "source": [
    "## 4. Mathematical Functions"
   ]
  },
  {
   "cell_type": "code",
   "execution_count": null,
   "id": "95052be0",
   "metadata": {},
   "outputs": [],
   "source": [
    "\n",
    "arr = np.array([1, 2, 3, 4, 5])\n",
    "print(\"Square root:\", np.sqrt(arr))\n",
    "print(\"Exponential:\", np.exp(arr))\n",
    "print(\"Sine:\", np.sin(arr))\n",
    "print(\"Log:\", np.log(arr))\n"
   ]
  },
  {
   "cell_type": "markdown",
   "id": "e2d0d6c2",
   "metadata": {},
   "source": [
    "## 5. Reshaping Arrays"
   ]
  },
  {
   "cell_type": "code",
   "execution_count": null,
   "id": "a83539a0",
   "metadata": {},
   "outputs": [],
   "source": [
    "\n",
    "arr = np.arange(12)\n",
    "reshaped = arr.reshape(3, 4)\n",
    "print(\"Original:\", arr)\n",
    "print(\"Reshaped (3x4):\n",
    "\", reshaped)\n"
   ]
  },
  {
   "cell_type": "markdown",
   "id": "c3b3d1ac",
   "metadata": {},
   "source": [
    "## 6. Aggregations"
   ]
  },
  {
   "cell_type": "code",
   "execution_count": null,
   "id": "2b8fbd8e",
   "metadata": {},
   "outputs": [],
   "source": [
    "\n",
    "arr = np.array([[1,2,3],[4,5,6],[7,8,9]])\n",
    "print(\"Sum:\", np.sum(arr))\n",
    "print(\"Mean:\", np.mean(arr))\n",
    "print(\"Standard Deviation:\", np.std(arr))\n",
    "print(\"Max:\", np.max(arr))\n",
    "print(\"Min:\", np.min(arr))\n",
    "print(\"Column-wise sum:\", np.sum(arr, axis=0))\n",
    "print(\"Row-wise sum:\", np.sum(arr, axis=1))\n"
   ]
  }
 ],
 "metadata": {},
 "nbformat": 4,
 "nbformat_minor": 5
}
