{
  "cells": [
    {
      "cell_type": "markdown",
      "id": "926d4c8f",
      "metadata": {
        "id": "926d4c8f"
      },
      "source": [
        "# 📘 NumPy Implementation Examples\n",
        "This notebook covers basic to intermediate concepts of NumPy."
      ]
    },
    {
      "cell_type": "code",
      "execution_count": 21,
      "id": "a6a5d2b6",
      "metadata": {
        "id": "a6a5d2b6"
      },
      "outputs": [],
      "source": [
        "import numpy as np\n"
      ]
    },
    {
      "cell_type": "markdown",
      "id": "f56fdac6",
      "metadata": {
        "id": "f56fdac6"
      },
      "source": [
        "## 1. Array Creation"
      ]
    },
    {
      "cell_type": "code",
      "execution_count": 28,
      "id": "a42c58c9",
      "metadata": {
        "colab": {
          "base_uri": "https://localhost:8080/"
        },
        "id": "a42c58c9",
        "outputId": "5cf897b0-c223-4c03-9aa2-6d68f28a487a"
      },
      "outputs": [
        {
          "output_type": "stream",
          "name": "stdout",
          "text": [
            "Array a: [1 2 3 4 5]\n",
            "Zeros array: [[0. 0. 0.]\n",
            " [0. 0. 0.]]\n",
            "Ones array: [[1. 1. 1.]\n",
            " [1. 1. 1.]\n",
            " [1. 1. 1.]]\n",
            "Arange: [0 2 4 6 8]\n",
            "Linspace: [0.   0.25 0.5  0.75 1.  ]\n"
          ]
        }
      ],
      "source": [
        "\n",
        "# Creating arrays\n",
        "a = np.array([1, 2, 3, 4, 5])\n",
        "b = np.zeros((2,3))\n",
        "c = np.ones((3,3))\n",
        "d = np.arange(0, 10, 2)\n",
        "e = np.linspace(0, 1, 5)\n",
        "\n",
        "print(\"Array a:\", a)\n",
        "print(\"Zeros array:\", b)\n",
        "print(\"Ones array:\", c)\n",
        "print(\"Arange:\", d)\n",
        "print(\"Linspace:\", e)\n"
      ]
    },
    {
      "cell_type": "markdown",
      "id": "2c77a14b",
      "metadata": {
        "id": "2c77a14b"
      },
      "source": [
        "## 2. Array Operations"
      ]
    },
    {
      "cell_type": "code",
      "execution_count": 23,
      "id": "527a4ccc",
      "metadata": {
        "colab": {
          "base_uri": "https://localhost:8080/"
        },
        "id": "527a4ccc",
        "outputId": "8a08ceaf-3778-4f16-b125-7452dbd10c0a"
      },
      "outputs": [
        {
          "output_type": "stream",
          "name": "stdout",
          "text": [
            "Addition: [11 22 33 44]\n",
            "Subtraction: [ 9 18 27 36]\n",
            "Multiplication: [ 10  40  90 160]\n",
            "Division: [10. 10. 10. 10.]\n",
            "Power: [ 100  400  900 1600]\n"
          ]
        }
      ],
      "source": [
        "\n",
        "x = np.array([10, 20, 30, 40])\n",
        "y = np.array([1, 2, 3, 4])\n",
        "\n",
        "print(\"Addition:\", x + y)\n",
        "print(\"Subtraction:\", x - y)\n",
        "print(\"Multiplication:\", x * y)\n",
        "print(\"Division:\", x / y)\n",
        "print(\"Power:\", x ** 2)\n"
      ]
    },
    {
      "cell_type": "markdown",
      "id": "8f07b2dd",
      "metadata": {
        "id": "8f07b2dd"
      },
      "source": [
        "## 3. Indexing & Slicing"
      ]
    },
    {
      "cell_type": "code",
      "execution_count": 24,
      "id": "b38493bb",
      "metadata": {
        "colab": {
          "base_uri": "https://localhost:8080/"
        },
        "id": "b38493bb",
        "outputId": "8e418abe-b5be-446e-d1fe-527f03b0b983"
      },
      "outputs": [
        {
          "output_type": "stream",
          "name": "stdout",
          "text": [
            "First element: 10\n",
            "Last element: 50\n",
            "Slice [1:4]: [20 30 40]\n",
            "Every 2nd element: [10 30 50]\n"
          ]
        }
      ],
      "source": [
        "\n",
        "arr = np.array([10, 20, 30, 40, 50])\n",
        "print(\"First element:\", arr[0])\n",
        "print(\"Last element:\", arr[-1])\n",
        "print(\"Slice [1:4]:\", arr[1:4])\n",
        "print(\"Every 2nd element:\", arr[::2])\n"
      ]
    },
    {
      "cell_type": "markdown",
      "id": "7a9f0e0c",
      "metadata": {
        "id": "7a9f0e0c"
      },
      "source": [
        "## 4. Mathematical Functions"
      ]
    },
    {
      "cell_type": "code",
      "execution_count": 25,
      "id": "95052be0",
      "metadata": {
        "colab": {
          "base_uri": "https://localhost:8080/"
        },
        "id": "95052be0",
        "outputId": "c365dcfb-6eca-4e81-84c3-c29c87c84d76"
      },
      "outputs": [
        {
          "output_type": "stream",
          "name": "stdout",
          "text": [
            "Square root: [1.         1.41421356 1.73205081 2.         2.23606798]\n",
            "Exponential: [  2.71828183   7.3890561   20.08553692  54.59815003 148.4131591 ]\n",
            "Sine: [ 0.84147098  0.90929743  0.14112001 -0.7568025  -0.95892427]\n",
            "Log: [0.         0.69314718 1.09861229 1.38629436 1.60943791]\n"
          ]
        }
      ],
      "source": [
        "\n",
        "arr = np.array([1, 2, 3, 4, 5])\n",
        "print(\"Square root:\", np.sqrt(arr))\n",
        "print(\"Exponential:\", np.exp(arr))\n",
        "print(\"Sine:\", np.sin(arr))\n",
        "print(\"Log:\", np.log(arr))\n"
      ]
    },
    {
      "cell_type": "markdown",
      "id": "e2d0d6c2",
      "metadata": {
        "id": "e2d0d6c2"
      },
      "source": [
        "## 5. Reshaping Arrays"
      ]
    },
    {
      "cell_type": "code",
      "execution_count": 26,
      "id": "a83539a0",
      "metadata": {
        "colab": {
          "base_uri": "https://localhost:8080/"
        },
        "id": "a83539a0",
        "outputId": "ae84eedc-3fae-4c68-b453-08831a2d7204"
      },
      "outputs": [
        {
          "output_type": "stream",
          "name": "stdout",
          "text": [
            "Original: [ 0  1  2  3  4  5  6  7  8  9 10 11]\n",
            "Reshaped (3x4): [[ 0  1  2  3]\n",
            " [ 4  5  6  7]\n",
            " [ 8  9 10 11]]\n"
          ]
        }
      ],
      "source": [
        "\n",
        "arr = np.arange(12)\n",
        "reshaped = arr.reshape(3, 4)\n",
        "print(\"Original:\", arr)\n",
        "print(\"Reshaped (3x4):\", reshaped)\n"
      ]
    },
    {
      "cell_type": "markdown",
      "id": "c3b3d1ac",
      "metadata": {
        "id": "c3b3d1ac"
      },
      "source": [
        "## 6. Aggregations"
      ]
    },
    {
      "cell_type": "code",
      "execution_count": 27,
      "id": "2b8fbd8e",
      "metadata": {
        "colab": {
          "base_uri": "https://localhost:8080/"
        },
        "id": "2b8fbd8e",
        "outputId": "e8b91b93-466f-417f-8426-76526b10ab1a"
      },
      "outputs": [
        {
          "output_type": "stream",
          "name": "stdout",
          "text": [
            "Sum: 45\n",
            "Mean: 5.0\n",
            "Standard Deviation: 2.581988897471611\n",
            "Max: 9\n",
            "Min: 1\n",
            "Column-wise sum: [12 15 18]\n",
            "Row-wise sum: [ 6 15 24]\n"
          ]
        }
      ],
      "source": [
        "\n",
        "arr = np.array([[1,2,3],[4,5,6],[7,8,9]])\n",
        "print(\"Sum:\", np.sum(arr))\n",
        "print(\"Mean:\", np.mean(arr))\n",
        "print(\"Standard Deviation:\", np.std(arr))\n",
        "print(\"Max:\", np.max(arr))\n",
        "print(\"Min:\", np.min(arr))\n",
        "print(\"Column-wise sum:\", np.sum(arr, axis=0))\n",
        "print(\"Row-wise sum:\", np.sum(arr, axis=1))\n"
      ]
    }
  ],
  "metadata": {
    "colab": {
      "provenance": []
    },
    "language_info": {
      "name": "python"
    },
    "kernelspec": {
      "name": "python3",
      "display_name": "Python 3"
    }
  },
  "nbformat": 4,
  "nbformat_minor": 5
}